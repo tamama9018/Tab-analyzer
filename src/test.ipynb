{
 "metadata": {
  "language_info": {
   "codemirror_mode": {
    "name": "ipython",
    "version": 3
   },
   "file_extension": ".py",
   "mimetype": "text/x-python",
   "name": "python",
   "nbconvert_exporter": "python",
   "pygments_lexer": "ipython3",
   "version": "3.9.0-beta"
  },
  "orig_nbformat": 2,
  "kernelspec": {
   "name": "python3",
   "display_name": "Python 3",
   "language": "python"
  }
 },
 "nbformat": 4,
 "nbformat_minor": 2,
 "cells": [
  {
   "cell_type": "code",
   "execution_count": 42,
   "metadata": {},
   "outputs": [
    {
     "output_type": "stream",
     "name": "stdout",
     "text": [
      "4\n"
     ]
    }
   ],
   "source": [
    "def deco(func):\n",
    "    def wrapper(*arg):\n",
    "        if type(*arg) == int:        \n",
    "            ret = func(*arg)\n",
    "            return ret\n",
    "        else:\n",
    "            return [func(a) for a in arg[0]]\n",
    "\n",
    "    return wrapper\n",
    "\n",
    "\n",
    "@deco\n",
    "def nijo(n):\n",
    "    return n**2\n",
    "\n",
    "x = 2\n",
    "answer = nijo(x)\n",
    "print(answer)"
   ]
  },
  {
   "cell_type": "code",
   "execution_count": null,
   "metadata": {},
   "outputs": [],
   "source": []
  }
 ]
}