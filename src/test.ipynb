{
 "cells": [
  {
   "cell_type": "code",
   "execution_count": 42,
   "metadata": {},
   "outputs": [
    {
     "name": "stdout",
     "output_type": "stream",
     "text": [
      "4\n"
     ]
    }
   ],
   "source": [
    "def deco(func):\n",
    "    def wrapper(*arg):\n",
    "        if type(*arg) == int:        \n",
    "            ret = func(*arg)\n",
    "            return ret\n",
    "        else:\n",
    "            return [func(a) for a in arg[0]]\n",
    "\n",
    "    return wrapper\n",
    "\n",
    "\n",
    "@deco\n",
    "def nijo(n):\n",
    "    return n**2\n",
    "\n",
    "x = 2\n",
    "answer = nijo(x)\n",
    "print(answer)"
   ]
  },
  {
   "cell_type": "code",
   "execution_count": 1,
   "metadata": {},
   "outputs": [
    {
     "name": "stdout",
     "output_type": "stream",
     "text": [
      "[[1, 3, 7, 8], [3, 7, 8, 13], [1, 7, 8, 15], [1, 3, 8, 19], [1, 3, 7, 20], [7, 8, 13, 15], [3, 8, 13, 19], [3, 7, 13, 20], [1, 8, 15, 19], [1, 7, 15, 20], [1, 3, 19, 20], [8, 13, 15, 19], [7, 13, 15, 20], [3, 13, 19, 20], [1, 15, 19, 20]]\n"
     ]
    }
   ],
   "source": [
    "from rotate import rotate\n",
    "print(rotate([1,3,7,8]))"
   ]
  },
  {
   "cell_type": "code",
   "execution_count": null,
   "metadata": {},
   "outputs": [],
   "source": []
  }
 ],
 "metadata": {
  "kernelspec": {
   "display_name": "Python 3",
   "language": "python",
   "name": "python3"
  },
  "language_info": {
   "codemirror_mode": {
    "name": "ipython",
    "version": 3
   },
   "file_extension": ".py",
   "mimetype": "text/x-python",
   "name": "python",
   "nbconvert_exporter": "python",
   "pygments_lexer": "ipython3",
   "version": "3.9.0b5"
  },
  "orig_nbformat": 2
 },
 "nbformat": 4,
 "nbformat_minor": 2
}
